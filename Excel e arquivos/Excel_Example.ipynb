{
 "cells": [
  {
   "cell_type": "code",
   "execution_count": 10,
   "metadata": {},
   "outputs": [
    {
     "name": "stdout",
     "output_type": "stream",
     "text": [
      "2020-08-06 17:25:59.235718\n",
      "2020-08-06 17:28:29.245009\n",
      "número de linhas 931219\n",
      "Linhas em branco 68781\n",
      "O usuário informou linhas a mais\n",
      "2020-08-06 17:28:30.350626\n"
     ]
    }
   ],
   "source": [
    "import openpyxl\n",
    "import datetime\n",
    "\n",
    "#hora inicial\n",
    "print(datetime.datetime.now())\n",
    "      \n",
    "wb = openpyxl.load_workbook(filename='C:\\\\Users\\\\Truewind\\\\OneDrive\\\\Meus códigos\\\\Datasets\\\\Demo_input_900.xlsx')\n",
    "wb.sheetnames\n",
    "#hora inicial\n",
    "print(datetime.datetime.now())\n",
    "\n",
    "cab = 1\n",
    "total_linhas_usu = 1000000\n",
    "\n",
    "plan = wb.worksheets[0]\n",
    "\n",
    "total_linhas = plan.max_row\n",
    "\n",
    "#texto = plan['A1'].value\n",
    "\n",
    "#print('primeira celula ' + texto)\n",
    "\n",
    "print('número de linhas ' + str(total_linhas))\n",
    "\n",
    "linhas_branco = total_linhas_usu - total_linhas\n",
    "\n",
    "print('Linhas em branco ' + str(linhas_branco))\n",
    "\n",
    "if linhas_branco > 0:\n",
    "    print('O usuário informou linhas a mais')\n",
    "\n",
    "#for L in range(1,total_linhas):\n",
    "    #print('Linha '  + str(L))\n",
    "#    if not plan.cell(row=L, column=1).value :\n",
    "#        print('Linha vazia '  + str(L))\n",
    "       \n",
    "#hora final\n",
    "print(datetime.datetime.now())"
   ]
  },
  {
   "cell_type": "code",
   "execution_count": null,
   "metadata": {},
   "outputs": [],
   "source": []
  },
  {
   "cell_type": "code",
   "execution_count": null,
   "metadata": {},
   "outputs": [],
   "source": []
  },
  {
   "cell_type": "code",
   "execution_count": null,
   "metadata": {},
   "outputs": [],
   "source": []
  }
 ],
 "metadata": {
  "kernelspec": {
   "display_name": "Python 3",
   "language": "python",
   "name": "python3"
  },
  "language_info": {
   "codemirror_mode": {
    "name": "ipython",
    "version": 3
   },
   "file_extension": ".py",
   "mimetype": "text/x-python",
   "name": "python",
   "nbconvert_exporter": "python",
   "pygments_lexer": "ipython3",
   "version": "3.7.6"
  }
 },
 "nbformat": 4,
 "nbformat_minor": 4
}
