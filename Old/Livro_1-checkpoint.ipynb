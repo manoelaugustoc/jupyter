{
 "cells": [
  {
   "cell_type": "code",
   "execution_count": 29,
   "metadata": {},
   "outputs": [
    {
     "name": "stdout",
     "output_type": "stream",
     "text": [
      "[8, 38, 8, 24, 49, 32, 8, 11, 51]\n",
      "Esse minuto não esta na lista 33\n",
      "Esse minuto não esta na lista 34\n",
      "Esse minuto não esta na lista 35\n",
      "Esse minuto não esta na lista 36\n",
      "Esse minuto não esta na lista 37\n",
      "Esse minuto esta na lista 38\n"
     ]
    }
   ],
   "source": [
    "from datetime import datetime\n",
    "import time\n",
    "import random\n",
    "\n",
    "odds = [random.randint(1,60), random.randint(1,60), random.randint(1,60), \n",
    "        random.randint(1,60), random.randint(1,60), random.randint(1,60),\n",
    "        random.randint(1,60), random.randint(1,60), random.randint(1,60)]\n",
    "print(odds)\n",
    "ok = True\n",
    "\n",
    "while ok:\n",
    "\n",
    "    right_this_minute = datetime.today().minute\n",
    "    if right_this_minute in odds:\n",
    "        print(\"Esse minuto esta na lista \" + str(right_this_minute))\n",
    "        ok = False\n",
    "    else:\n",
    "        print(\"Esse minuto não esta na lista \" + str(right_this_minute))\n",
    "    \n",
    "    time.sleep(60)"
   ]
  },
  {
   "cell_type": "code",
   "execution_count": 25,
   "metadata": {},
   "outputs": [
    {
     "name": "stdout",
     "output_type": "stream",
     "text": [
      "Help on method randint in module random:\n",
      "\n",
      "randint(a, b) method of random.Random instance\n",
      "    Return random integer in range [a, b], including both end points.\n",
      "\n"
     ]
    }
   ],
   "source": [
    "import random\n",
    "dir(random)\n",
    "help(random.randint)\n"
   ]
  },
  {
   "cell_type": "code",
   "execution_count": 44,
   "metadata": {},
   "outputs": [
    {
     "name": "stdout",
     "output_type": "stream",
     "text": [
      "48\n",
      "548\n",
      "39\n",
      "539\n",
      "22\n",
      "522\n",
      "2\n",
      "502\n",
      "3\n",
      "504\n",
      "12\n",
      "514\n",
      "13\n",
      "516\n",
      "60\n",
      "567\n",
      "46\n",
      "553\n",
      "[48, 39, 22]\n",
      "[500, 501, 503, 505, 506, 507, 508, 509, 510, 511, 512, 513, 515, 517, 518, 519, 520, 521, 523, 524, 525, 526, 527, 528, 529, 530, 531, 532, 533, 534, 535, 536, 537, 538, 540, 541, 542, 543, 544, 545, 546, 547, 549, 550, 551, 552, 554, 555, 556, 557, 558, 559, 560, 561, 562, 563, 564, 565, 566, 568, 569, 570, 571, 572, 573, 574, 575, 576, 577, 578, 579, 580, 581, 582, 583, 584, 585, 586, 587, 588, 589, 590, 591, 592, 593, 594, 595, 596, 597, 598, 599, 600, 601, 602, 603, 604, 605, 606, 607, 608, 609, 610, 611, 612, 613, 614, 615, 616, 617, 618, 619, 620, 621, 622, 623, 624, 625, 626, 627, 628, 629, 630, 631, 632, 633, 634, 635, 636, 637, 638, 639, 640, 641, 642, 643, 644, 645, 646, 647, 648, 649, 650, 651, 652, 653, 654, 655, 656, 657, 658, 659, 660, 661, 662, 663, 664, 665, 666, 667, 668, 669, 670, 671, 672, 673, 674, 675, 676, 677, 678, 679, 680, 681, 682, 683, 684, 685, 686, 687, 688, 689, 690, 691, 692, 693, 694, 695, 696, 697, 698, 699, 700, 701, 702, 703, 704, 705, 706, 707, 708, 709, 710, 711, 712, 713, 714, 715, 716, 717, 718, 719, 720, 721, 722, 723, 724, 725, 726, 727, 728, 729, 730, 731, 732, 733, 734, 735, 736, 737, 738, 739, 740, 741, 742, 743, 744, 745, 746, 747, 748, 749, 750, 751, 752, 753, 754, 755, 756, 757, 758, 759, 760, 761, 762, 763, 764, 765, 766, 767, 768, 769, 770, 771, 772, 773, 774, 775, 776, 777, 778, 779, 780, 781, 782, 783, 784, 785, 786, 787, 788, 789, 790, 791, 792, 793, 794, 795, 796, 797, 798, 799, 800, 801, 802, 803, 804, 805, 806, 807, 808, 809, 810, 811, 812, 813, 814, 815, 816, 817, 818, 819, 820, 821, 822, 823, 824, 825, 826, 827, 828, 829, 830, 831, 832, 833, 834, 835, 836, 837, 838, 839, 840, 841, 842, 843, 844, 845, 846, 847, 848, 849, 850, 851, 852, 853, 854, 855, 856, 857, 858, 859, 860, 861, 862, 863, 864, 865, 866, 867, 868, 869, 870, 871, 872, 873, 874, 875, 876, 877, 878, 879, 880, 881, 882, 883, 884, 885, 886, 887, 888, 889, 890, 891, 892, 893, 894, 895, 896, 897, 898, 899, 900, 901, 902, 903, 904, 905, 906, 907, 908, 909, 910, 911, 912, 913, 914, 915, 916, 917, 918, 919, 920, 921, 922, 923, 924, 925, 926, 927, 928, 929, 930, 931, 932, 933, 934, 935, 936, 937, 938, 939, 940, 941, 942, 943, 944, 945, 946, 947, 948, 949, 950, 951, 952, 953, 954, 955, 956, 957, 958, 959, 960, 961, 962, 963, 964, 965, 966, 967, 968, 969, 970, 971, 972, 973, 974, 975, 976, 977, 978, 979, 980, 981, 982, 983, 984, 985, 986, 987, 988, 989, 990, 991, 992, 993, 994, 995, 996, 997, 998, 999]\n"
     ]
    }
   ],
   "source": [
    "odds = [random.randint(1,60), random.randint(1,60), random.randint(1,60), \n",
    "        random.randint(1,60), random.randint(1,60), random.randint(1,60),\n",
    "        random.randint(1,60), random.randint(1,60), random.randint(1,60)]\n",
    "lista = list(range(500, 1000))\n",
    "\n",
    "for dados in odds:\n",
    "    print(dados)\n",
    "    print(lista[dados])\n",
    "    lista.remove(lista[dados])\n",
    "    \n",
    "\n",
    "print(odds[:3])\n",
    "print(lista)"
   ]
  },
  {
   "cell_type": "code",
   "execution_count": 9,
   "metadata": {},
   "outputs": [
    {
     "name": "stdout",
     "output_type": "stream",
     "text": [
      "Manoel é muito Macho\n",
      "Manoel\n",
      "Macho\n",
      "45\n"
     ]
    }
   ],
   "source": [
    "pessoa = {'Nome': 'Manoel', 'Genero': 'Macho', 'Idade': '45'}\n",
    "print(pessoa['Nome'] + ' é muito ' + pessoa['Genero'])\n",
    "\n",
    "for kv in pessoa:\n",
    "    print(pessoa[kv])"
   ]
  },
  {
   "cell_type": "code",
   "execution_count": 37,
   "metadata": {},
   "outputs": [
    {
     "name": "stdout",
     "output_type": "stream",
     "text": [
      "{'10000': 1767310, '20000': 5924140, '30000': 9992053, '50000': 31053759, '100000': 155829093, '150000': 251057300, '200000': 351430914}\n"
     ]
    }
   ],
   "source": [
    "import random\n",
    "faixas = {'10000': 0, '20000':0, '30000':0, '50000':0, '100000':0, '150000':0, '200000':0}\n",
    "\n",
    "for i in range(1000000):\n",
    "    lista[i] = random.randint(1,5000000)\n",
    "tam_lista = len(lista)\n",
    "#print('Tamanho da lista ' + str(tam_lista))\n",
    "#print(lista)\n",
    "for k1 in lista:\n",
    "    k02 = 0\n",
    "    k2 = 0\n",
    "    if k1 >= tam_lista:\n",
    "        break\n",
    "    for k2 in faixas:\n",
    "        #print(str(k02) + ' < ' + str(lista[k1]) + ' <= ' + k2)\n",
    "        if k02 < lista[k1] <= int(k2):\n",
    "            #print('Entrou')\n",
    "            faixas[k2] = faixas[k2] + lista[k1]\n",
    "            break\n",
    "        k02 = int(k2)\n",
    "print(faixas)            "
   ]
  },
  {
   "cell_type": "code",
   "execution_count": null,
   "metadata": {},
   "outputs": [],
   "source": [
    "pessoas = {}\n",
    "pessoas[Manoel] = {'idade':45, 'endereço':'Rua Raul Azedo', 'numero':'205', 'complemento':'ap 402', 'bairro':'Boa Viagem', 'cidade', 'Recife'}\n",
    "pessoas[Mariana] = {'idade':35, 'endereço':'Av. Beira Rio', 'numero':'1035', 'complemento':'ap 1501', 'bairro':'Madalena', 'cidade', 'Recife'}"
   ]
  }
 ],
 "metadata": {
  "kernelspec": {
   "display_name": "Python 3",
   "language": "python",
   "name": "python3"
  },
  "language_info": {
   "codemirror_mode": {
    "name": "ipython",
    "version": 3
   },
   "file_extension": ".py",
   "mimetype": "text/x-python",
   "name": "python",
   "nbconvert_exporter": "python",
   "pygments_lexer": "ipython3",
   "version": "3.7.6"
  }
 },
 "nbformat": 4,
 "nbformat_minor": 4
}
